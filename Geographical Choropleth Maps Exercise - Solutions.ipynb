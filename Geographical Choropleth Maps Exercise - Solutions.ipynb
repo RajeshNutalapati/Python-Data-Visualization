{
    "cells": [
        {
            "cell_type": "markdown", 
            "metadata": {}, 
            "source": "___\n\n<a href='http://www.pieriandata.com'> <img src='../Pierian_Data_Logo.png' /></a>\n___"
        }, 
        {
            "cell_type": "markdown", 
            "metadata": {}, 
            "source": "# Choropleth Maps Exercise - Solutions\n\nWelcome to the Choropleth Maps Exercise! In this exercise we will give you some simple datasets and ask you to create Choropleth Maps from them. Due to the Nature of Plotly we can't show you examples embedded inside the notebook.\n\n[Full Documentation Reference](https://plot.ly/python/reference/#choropleth)\n\n## Plotly Imports"
        }, 
        {
            "cell_type": "code", 
            "metadata": {
                "collapsed": false
            }, 
            "source": "import plotly.graph_objs as go \nfrom plotly.offline import init_notebook_mode,iplot,plot\ninit_notebook_mode(connected=True) ", 
            "outputs": [
                {
                    "metadata": {}, 
                    "output_type": "display_data", 
                    "data": {
                        "text/html": "<script>requirejs.config({paths: { 'plotly': ['https://cdn.plot.ly/plotly-latest.min']},});if(!window.Plotly) {{require(['plotly'],function(plotly) {window.Plotly=plotly;});}}</script>", 
                        "text/plain": "<IPython.core.display.HTML object>"
                    }
                }
            ], 
            "execution_count": 1
        }, 
        {
            "cell_type": "markdown", 
            "metadata": {}, 
            "source": "** Import pandas and read the csv file: 2014_World_Power_Consumption**"
        }, 
        {
            "cell_type": "code", 
            "metadata": {
                "collapsed": true
            }, 
            "source": "import pandas as pd", 
            "outputs": [], 
            "execution_count": 2
        }, 
        {
            "cell_type": "code", 
            "metadata": {
                "collapsed": true
            }, 
            "source": "\nfrom io import StringIO\nimport requests\nimport json\nimport pandas as pd\n\n# @hidden_cell\n# This function accesses a file in your Object Storage. The definition contains your credentials.\n# You might want to remove those credentials before you share your notebook.\ndef get_object_storage_file_with_credentials_19099026f8df40b6aec4353c7e897e95(container, filename):\n    \"\"\"This functions returns a StringIO object containing\n    the file content from Bluemix Object Storage.\"\"\"\n\n    url1 = ''.join(['https://identity.open.softlayer.com', '/v3/auth/tokens'])\n    data = {'auth': {'identity': {'methods': ['password'],\n            'password': {'user': {'name': 'member_8d78d211e509fda828b3dd2f9ffce4bc378ca5ff','domain': {'id': '595d59e0d3fe4089afc692bd55396f11'},\n            'password': 'W/[8W/btk5QIyT/a'}}}}}\n    headers1 = {'Content-Type': 'application/json'}\n    resp1 = requests.post(url=url1, data=json.dumps(data), headers=headers1)\n    resp1_body = resp1.json()\n    for e1 in resp1_body['token']['catalog']:\n        if(e1['type']=='object-store'):\n            for e2 in e1['endpoints']:\n                        if(e2['interface']=='public'and e2['region']=='dallas'):\n                            url2 = ''.join([e2['url'],'/', container, '/', filename])\n    s_subject_token = resp1.headers['x-subject-token']\n    headers2 = {'X-Auth-Token': s_subject_token, 'accept': 'application/json'}\n    resp2 = requests.get(url=url2, headers=headers2)\n    return StringIO(resp2.text)\n\n# Your data file was loaded into a StringIO object and you can process the data.\n# Please read the documentation of pandas to learn more about your possibilities to load your data.\n# pandas documentation: http://pandas.pydata.org/pandas-docs/stable/io.html\ndf = pd.read_csv(get_object_storage_file_with_credentials_19099026f8df40b6aec4353c7e897e95('PythonDataVisualization', '2014_World_Power_Consumption'))\n", 
            "outputs": [], 
            "execution_count": 3
        }, 
        {
            "cell_type": "code", 
            "metadata": {
                "collapsed": false
            }, 
            "source": "#df = pd.read_csv('2014_World_Power_Consumption')", 
            "outputs": [], 
            "execution_count": 4
        }, 
        {
            "cell_type": "markdown", 
            "metadata": {}, 
            "source": "** Check the head of the DataFrame. **"
        }, 
        {
            "cell_type": "code", 
            "metadata": {
                "collapsed": false
            }, 
            "source": "df.head()", 
            "outputs": [
                {
                    "metadata": {}, 
                    "output_type": "execute_result", 
                    "data": {
                        "text/html": "<div>\n<table border=\"1\" class=\"dataframe\">\n  <thead>\n    <tr style=\"text-align: right;\">\n      <th></th>\n      <th>Country</th>\n      <th>Power Consumption KWH</th>\n      <th>Text</th>\n    </tr>\n  </thead>\n  <tbody>\n    <tr>\n      <th>0</th>\n      <td>China</td>\n      <td>5.523000e+12</td>\n      <td>China 5,523,000,000,000</td>\n    </tr>\n    <tr>\n      <th>1</th>\n      <td>United States</td>\n      <td>3.832000e+12</td>\n      <td>United 3,832,000,000,000</td>\n    </tr>\n    <tr>\n      <th>2</th>\n      <td>European</td>\n      <td>2.771000e+12</td>\n      <td>European 2,771,000,000,000</td>\n    </tr>\n    <tr>\n      <th>3</th>\n      <td>Russia</td>\n      <td>1.065000e+12</td>\n      <td>Russia 1,065,000,000,000</td>\n    </tr>\n    <tr>\n      <th>4</th>\n      <td>Japan</td>\n      <td>9.210000e+11</td>\n      <td>Japan 921,000,000,000</td>\n    </tr>\n  </tbody>\n</table>\n</div>", 
                        "text/plain": "         Country  Power Consumption KWH                        Text\n0          China           5.523000e+12     China 5,523,000,000,000\n1  United States           3.832000e+12    United 3,832,000,000,000\n2       European           2.771000e+12  European 2,771,000,000,000\n3         Russia           1.065000e+12    Russia 1,065,000,000,000\n4          Japan           9.210000e+11       Japan 921,000,000,000"
                    }, 
                    "execution_count": 5
                }
            ], 
            "execution_count": 5
        }, 
        {
            "cell_type": "markdown", 
            "metadata": {}, 
            "source": "** Referencing the lecture notes, create a Choropleth Plot of the Power Consumption for Countries using the data and layout dictionary. **"
        }, 
        {
            "cell_type": "code", 
            "metadata": {
                "collapsed": true
            }, 
            "source": "data = dict(\n        type = 'choropleth',\n        colorscale = 'Viridis',\n        reversescale = True,\n        locations = df['Country'],\n        locationmode = \"country names\",\n        z = df['Power Consumption KWH'],\n        text = df['Country'],\n        colorbar = {'title' : 'Power Consumption KWH'},\n      ) \n\nlayout = dict(title = '2014 Power Consumption KWH',\n                geo = dict(showframe = False,projection = {'type':'Mercator'})\n             )", 
            "outputs": [], 
            "execution_count": 12
        }, 
        {
            "cell_type": "code", 
            "metadata": {
                "collapsed": false
            }, 
            "source": "choromap = go.Figure(data = [data],layout = layout)\nplot(choromap,validate=False)", 
            "outputs": [
                {
                    "metadata": {}, 
                    "output_type": "execute_result", 
                    "data": {
                        "text/plain": "'file:///gpfs/global_fs01/sym_shared/YPProdSpark/user/safb-fd0fbf65e7d127-396c42860ed9/notebook/work/temp-plot.html'"
                    }, 
                    "execution_count": 13
                }
            ], 
            "execution_count": 13
        }, 
        {
            "cell_type": "markdown", 
            "metadata": {}, 
            "source": "## USA Choropleth\n\n** Import the 2012_Election_Data csv file using pandas. **"
        }, 
        {
            "cell_type": "code", 
            "metadata": {
                "collapsed": false
            }, 
            "source": "usdf = pd.read_csv('2012_Election_Data')", 
            "outputs": [
                {
                    "ename": "OSError", 
                    "evalue": "File b'2012_Election_Data' does not exist", 
                    "traceback": [
                        "\u001b[1;31m\u001b[0m", 
                        "\u001b[1;31mOSError\u001b[0mTraceback (most recent call last)", 
                        "\u001b[1;32m<ipython-input-11-8cf5782509b1>\u001b[0m in \u001b[0;36m<module>\u001b[1;34m()\u001b[0m\n\u001b[1;32m----> 1\u001b[1;33m \u001b[0musdf\u001b[0m \u001b[1;33m=\u001b[0m \u001b[0mpd\u001b[0m\u001b[1;33m.\u001b[0m\u001b[0mread_csv\u001b[0m\u001b[1;33m(\u001b[0m\u001b[1;34m'2012_Election_Data'\u001b[0m\u001b[1;33m)\u001b[0m\u001b[1;33m\u001b[0m\u001b[0m\n\u001b[0m", 
                        "\u001b[1;32m/usr/local/src/conda3_runtime/4.1.1/lib/python3.5/site-packages/pandas/io/parsers.py\u001b[0m in \u001b[0;36mparser_f\u001b[1;34m(filepath_or_buffer, sep, delimiter, header, names, index_col, usecols, squeeze, prefix, mangle_dupe_cols, dtype, engine, converters, true_values, false_values, skipinitialspace, skiprows, skipfooter, nrows, na_values, keep_default_na, na_filter, verbose, skip_blank_lines, parse_dates, infer_datetime_format, keep_date_col, date_parser, dayfirst, iterator, chunksize, compression, thousands, decimal, lineterminator, quotechar, quoting, escapechar, comment, encoding, dialect, tupleize_cols, error_bad_lines, warn_bad_lines, skip_footer, doublequote, delim_whitespace, as_recarray, compact_ints, use_unsigned, low_memory, buffer_lines, memory_map, float_precision)\u001b[0m\n\u001b[0;32m    560\u001b[0m                     skip_blank_lines=skip_blank_lines)\n\u001b[0;32m    561\u001b[0m \u001b[1;33m\u001b[0m\u001b[0m\n\u001b[1;32m--> 562\u001b[1;33m         \u001b[1;32mreturn\u001b[0m \u001b[0m_read\u001b[0m\u001b[1;33m(\u001b[0m\u001b[0mfilepath_or_buffer\u001b[0m\u001b[1;33m,\u001b[0m \u001b[0mkwds\u001b[0m\u001b[1;33m)\u001b[0m\u001b[1;33m\u001b[0m\u001b[0m\n\u001b[0m\u001b[0;32m    563\u001b[0m \u001b[1;33m\u001b[0m\u001b[0m\n\u001b[0;32m    564\u001b[0m     \u001b[0mparser_f\u001b[0m\u001b[1;33m.\u001b[0m\u001b[0m__name__\u001b[0m \u001b[1;33m=\u001b[0m \u001b[0mname\u001b[0m\u001b[1;33m\u001b[0m\u001b[0m\n", 
                        "\u001b[1;32m/usr/local/src/conda3_runtime/4.1.1/lib/python3.5/site-packages/pandas/io/parsers.py\u001b[0m in \u001b[0;36m_read\u001b[1;34m(filepath_or_buffer, kwds)\u001b[0m\n\u001b[0;32m    313\u001b[0m \u001b[1;33m\u001b[0m\u001b[0m\n\u001b[0;32m    314\u001b[0m     \u001b[1;31m# Create the parser.\u001b[0m\u001b[1;33m\u001b[0m\u001b[1;33m\u001b[0m\u001b[0m\n\u001b[1;32m--> 315\u001b[1;33m     \u001b[0mparser\u001b[0m \u001b[1;33m=\u001b[0m \u001b[0mTextFileReader\u001b[0m\u001b[1;33m(\u001b[0m\u001b[0mfilepath_or_buffer\u001b[0m\u001b[1;33m,\u001b[0m \u001b[1;33m**\u001b[0m\u001b[0mkwds\u001b[0m\u001b[1;33m)\u001b[0m\u001b[1;33m\u001b[0m\u001b[0m\n\u001b[0m\u001b[0;32m    316\u001b[0m \u001b[1;33m\u001b[0m\u001b[0m\n\u001b[0;32m    317\u001b[0m     \u001b[1;32mif\u001b[0m \u001b[1;33m(\u001b[0m\u001b[0mnrows\u001b[0m \u001b[1;32mis\u001b[0m \u001b[1;32mnot\u001b[0m \u001b[1;32mNone\u001b[0m\u001b[1;33m)\u001b[0m \u001b[1;32mand\u001b[0m \u001b[1;33m(\u001b[0m\u001b[0mchunksize\u001b[0m \u001b[1;32mis\u001b[0m \u001b[1;32mnot\u001b[0m \u001b[1;32mNone\u001b[0m\u001b[1;33m)\u001b[0m\u001b[1;33m:\u001b[0m\u001b[1;33m\u001b[0m\u001b[0m\n", 
                        "\u001b[1;32m/usr/local/src/conda3_runtime/4.1.1/lib/python3.5/site-packages/pandas/io/parsers.py\u001b[0m in \u001b[0;36m__init__\u001b[1;34m(self, f, engine, **kwds)\u001b[0m\n\u001b[0;32m    643\u001b[0m             \u001b[0mself\u001b[0m\u001b[1;33m.\u001b[0m\u001b[0moptions\u001b[0m\u001b[1;33m[\u001b[0m\u001b[1;34m'has_index_names'\u001b[0m\u001b[1;33m]\u001b[0m \u001b[1;33m=\u001b[0m \u001b[0mkwds\u001b[0m\u001b[1;33m[\u001b[0m\u001b[1;34m'has_index_names'\u001b[0m\u001b[1;33m]\u001b[0m\u001b[1;33m\u001b[0m\u001b[0m\n\u001b[0;32m    644\u001b[0m \u001b[1;33m\u001b[0m\u001b[0m\n\u001b[1;32m--> 645\u001b[1;33m         \u001b[0mself\u001b[0m\u001b[1;33m.\u001b[0m\u001b[0m_make_engine\u001b[0m\u001b[1;33m(\u001b[0m\u001b[0mself\u001b[0m\u001b[1;33m.\u001b[0m\u001b[0mengine\u001b[0m\u001b[1;33m)\u001b[0m\u001b[1;33m\u001b[0m\u001b[0m\n\u001b[0m\u001b[0;32m    646\u001b[0m \u001b[1;33m\u001b[0m\u001b[0m\n\u001b[0;32m    647\u001b[0m     \u001b[1;32mdef\u001b[0m \u001b[0mclose\u001b[0m\u001b[1;33m(\u001b[0m\u001b[0mself\u001b[0m\u001b[1;33m)\u001b[0m\u001b[1;33m:\u001b[0m\u001b[1;33m\u001b[0m\u001b[0m\n", 
                        "\u001b[1;32m/usr/local/src/conda3_runtime/4.1.1/lib/python3.5/site-packages/pandas/io/parsers.py\u001b[0m in \u001b[0;36m_make_engine\u001b[1;34m(self, engine)\u001b[0m\n\u001b[0;32m    797\u001b[0m     \u001b[1;32mdef\u001b[0m \u001b[0m_make_engine\u001b[0m\u001b[1;33m(\u001b[0m\u001b[0mself\u001b[0m\u001b[1;33m,\u001b[0m \u001b[0mengine\u001b[0m\u001b[1;33m=\u001b[0m\u001b[1;34m'c'\u001b[0m\u001b[1;33m)\u001b[0m\u001b[1;33m:\u001b[0m\u001b[1;33m\u001b[0m\u001b[0m\n\u001b[0;32m    798\u001b[0m         \u001b[1;32mif\u001b[0m \u001b[0mengine\u001b[0m \u001b[1;33m==\u001b[0m \u001b[1;34m'c'\u001b[0m\u001b[1;33m:\u001b[0m\u001b[1;33m\u001b[0m\u001b[0m\n\u001b[1;32m--> 799\u001b[1;33m             \u001b[0mself\u001b[0m\u001b[1;33m.\u001b[0m\u001b[0m_engine\u001b[0m \u001b[1;33m=\u001b[0m \u001b[0mCParserWrapper\u001b[0m\u001b[1;33m(\u001b[0m\u001b[0mself\u001b[0m\u001b[1;33m.\u001b[0m\u001b[0mf\u001b[0m\u001b[1;33m,\u001b[0m \u001b[1;33m**\u001b[0m\u001b[0mself\u001b[0m\u001b[1;33m.\u001b[0m\u001b[0moptions\u001b[0m\u001b[1;33m)\u001b[0m\u001b[1;33m\u001b[0m\u001b[0m\n\u001b[0m\u001b[0;32m    800\u001b[0m         \u001b[1;32melse\u001b[0m\u001b[1;33m:\u001b[0m\u001b[1;33m\u001b[0m\u001b[0m\n\u001b[0;32m    801\u001b[0m             \u001b[1;32mif\u001b[0m \u001b[0mengine\u001b[0m \u001b[1;33m==\u001b[0m \u001b[1;34m'python'\u001b[0m\u001b[1;33m:\u001b[0m\u001b[1;33m\u001b[0m\u001b[0m\n", 
                        "\u001b[1;32m/usr/local/src/conda3_runtime/4.1.1/lib/python3.5/site-packages/pandas/io/parsers.py\u001b[0m in \u001b[0;36m__init__\u001b[1;34m(self, src, **kwds)\u001b[0m\n\u001b[0;32m   1211\u001b[0m         \u001b[0mkwds\u001b[0m\u001b[1;33m[\u001b[0m\u001b[1;34m'allow_leading_cols'\u001b[0m\u001b[1;33m]\u001b[0m \u001b[1;33m=\u001b[0m \u001b[0mself\u001b[0m\u001b[1;33m.\u001b[0m\u001b[0mindex_col\u001b[0m \u001b[1;32mis\u001b[0m \u001b[1;32mnot\u001b[0m \u001b[1;32mFalse\u001b[0m\u001b[1;33m\u001b[0m\u001b[0m\n\u001b[0;32m   1212\u001b[0m \u001b[1;33m\u001b[0m\u001b[0m\n\u001b[1;32m-> 1213\u001b[1;33m         \u001b[0mself\u001b[0m\u001b[1;33m.\u001b[0m\u001b[0m_reader\u001b[0m \u001b[1;33m=\u001b[0m \u001b[0m_parser\u001b[0m\u001b[1;33m.\u001b[0m\u001b[0mTextReader\u001b[0m\u001b[1;33m(\u001b[0m\u001b[0msrc\u001b[0m\u001b[1;33m,\u001b[0m \u001b[1;33m**\u001b[0m\u001b[0mkwds\u001b[0m\u001b[1;33m)\u001b[0m\u001b[1;33m\u001b[0m\u001b[0m\n\u001b[0m\u001b[0;32m   1214\u001b[0m \u001b[1;33m\u001b[0m\u001b[0m\n\u001b[0;32m   1215\u001b[0m         \u001b[1;31m# XXX\u001b[0m\u001b[1;33m\u001b[0m\u001b[1;33m\u001b[0m\u001b[0m\n", 
                        "\u001b[1;32mpandas/parser.pyx\u001b[0m in \u001b[0;36mpandas.parser.TextReader.__cinit__ (pandas/parser.c:3427)\u001b[1;34m()\u001b[0m\n", 
                        "\u001b[1;32mpandas/parser.pyx\u001b[0m in \u001b[0;36mpandas.parser.TextReader._setup_parser_source (pandas/parser.c:6861)\u001b[1;34m()\u001b[0m\n", 
                        "\u001b[1;31mOSError\u001b[0m: File b'2012_Election_Data' does not exist"
                    ], 
                    "output_type": "error"
                }
            ], 
            "execution_count": 11
        }, 
        {
            "cell_type": "markdown", 
            "metadata": {}, 
            "source": "** Check the head of the DataFrame. **"
        }, 
        {
            "cell_type": "code", 
            "metadata": {
                "collapsed": false
            }, 
            "source": "usdf.head()", 
            "outputs": [
                {
                    "metadata": {}, 
                    "output_type": "execute_result", 
                    "data": {
                        "text/html": "<div>\n<table border=\"1\" class=\"dataframe\">\n  <thead>\n    <tr style=\"text-align: right;\">\n      <th></th>\n      <th>Year</th>\n      <th>ICPSR State Code</th>\n      <th>Alphanumeric State Code</th>\n      <th>State</th>\n      <th>VEP Total Ballots Counted</th>\n      <th>VEP Highest Office</th>\n      <th>VAP Highest Office</th>\n      <th>Total Ballots Counted</th>\n      <th>Highest Office</th>\n      <th>Voting-Eligible Population (VEP)</th>\n      <th>Voting-Age Population (VAP)</th>\n      <th>% Non-citizen</th>\n      <th>Prison</th>\n      <th>Probation</th>\n      <th>Parole</th>\n      <th>Total Ineligible Felon</th>\n      <th>State Abv</th>\n    </tr>\n  </thead>\n  <tbody>\n    <tr>\n      <th>0</th>\n      <td>2012</td>\n      <td>41</td>\n      <td>1</td>\n      <td>Alabama</td>\n      <td>NaN</td>\n      <td>58.6%</td>\n      <td>56.0%</td>\n      <td>NaN</td>\n      <td>2,074,338</td>\n      <td>3,539,217</td>\n      <td>3707440.0</td>\n      <td>2.6%</td>\n      <td>32,232</td>\n      <td>57,993</td>\n      <td>8,616</td>\n      <td>71,584</td>\n      <td>AL</td>\n    </tr>\n    <tr>\n      <th>1</th>\n      <td>2012</td>\n      <td>81</td>\n      <td>2</td>\n      <td>Alaska</td>\n      <td>58.9%</td>\n      <td>58.7%</td>\n      <td>55.3%</td>\n      <td>301,694</td>\n      <td>300,495</td>\n      <td>511,792</td>\n      <td>543763.0</td>\n      <td>3.8%</td>\n      <td>5,633</td>\n      <td>7,173</td>\n      <td>1,882</td>\n      <td>11,317</td>\n      <td>AK</td>\n    </tr>\n    <tr>\n      <th>2</th>\n      <td>2012</td>\n      <td>61</td>\n      <td>3</td>\n      <td>Arizona</td>\n      <td>53.0%</td>\n      <td>52.6%</td>\n      <td>46.5%</td>\n      <td>2,323,579</td>\n      <td>2,306,559</td>\n      <td>4,387,900</td>\n      <td>4959270.0</td>\n      <td>9.9%</td>\n      <td>35,188</td>\n      <td>72,452</td>\n      <td>7,460</td>\n      <td>81,048</td>\n      <td>AZ</td>\n    </tr>\n    <tr>\n      <th>3</th>\n      <td>2012</td>\n      <td>42</td>\n      <td>4</td>\n      <td>Arkansas</td>\n      <td>51.1%</td>\n      <td>50.7%</td>\n      <td>47.7%</td>\n      <td>1,078,548</td>\n      <td>1,069,468</td>\n      <td>2,109,847</td>\n      <td>2242740.0</td>\n      <td>3.5%</td>\n      <td>14,471</td>\n      <td>30,122</td>\n      <td>23,372</td>\n      <td>53,808</td>\n      <td>AR</td>\n    </tr>\n    <tr>\n      <th>4</th>\n      <td>2012</td>\n      <td>71</td>\n      <td>5</td>\n      <td>California</td>\n      <td>55.7%</td>\n      <td>55.1%</td>\n      <td>45.1%</td>\n      <td>13,202,158</td>\n      <td>13,038,547</td>\n      <td>23,681,837</td>\n      <td>28913129.0</td>\n      <td>17.4%</td>\n      <td>119,455</td>\n      <td>0</td>\n      <td>89,287</td>\n      <td>208,742</td>\n      <td>CA</td>\n    </tr>\n  </tbody>\n</table>\n</div>", 
                        "text/plain": "   Year  ICPSR State Code  Alphanumeric State Code       State  \\\n0  2012                41                        1     Alabama   \n1  2012                81                        2      Alaska   \n2  2012                61                        3     Arizona   \n3  2012                42                        4    Arkansas   \n4  2012                71                        5  California   \n\n  VEP Total Ballots Counted VEP Highest Office VAP Highest Office  \\\n0                       NaN              58.6%              56.0%   \n1                     58.9%              58.7%              55.3%   \n2                     53.0%              52.6%              46.5%   \n3                     51.1%              50.7%              47.7%   \n4                     55.7%              55.1%              45.1%   \n\n  Total Ballots Counted Highest Office Voting-Eligible Population (VEP)  \\\n0                   NaN      2,074,338                        3,539,217   \n1               301,694        300,495                          511,792   \n2             2,323,579      2,306,559                        4,387,900   \n3             1,078,548      1,069,468                        2,109,847   \n4            13,202,158     13,038,547                       23,681,837   \n\n   Voting-Age Population (VAP) % Non-citizen   Prison Probation  Parole  \\\n0                    3707440.0          2.6%   32,232    57,993   8,616   \n1                     543763.0          3.8%    5,633     7,173   1,882   \n2                    4959270.0          9.9%   35,188    72,452   7,460   \n3                    2242740.0          3.5%   14,471    30,122  23,372   \n4                   28913129.0         17.4%  119,455         0  89,287   \n\n  Total Ineligible Felon State Abv  \n0                 71,584        AL  \n1                 11,317        AK  \n2                 81,048        AZ  \n3                 53,808        AR  \n4                208,742        CA  "
                    }, 
                    "execution_count": 8
                }
            ], 
            "execution_count": 8
        }, 
        {
            "cell_type": "markdown", 
            "metadata": {}, 
            "source": "** Now create a plot that displays the Voting-Age Population (VAP) per state. If you later want to play around with other columns, make sure you consider their data type. VAP has already been transformed to a float for you. **"
        }, 
        {
            "cell_type": "code", 
            "metadata": {
                "collapsed": false
            }, 
            "source": "data = dict(type='choropleth',\n            colorscale = 'Viridis',\n            reversescale = True,\n            locations = usdf['State Abv'],\n            z = usdf['Voting-Age Population (VAP)'],\n            locationmode = 'USA-states',\n            text = usdf['State'],\n            marker = dict(line = dict(color = 'rgb(255,255,255)',width = 1)),\n            colorbar = {'title':\"Voting-Age Population (VAP)\"}\n            ) ", 
            "outputs": [
                {
                    "ename": "NameError", 
                    "evalue": "name 'usdf' is not defined", 
                    "traceback": [
                        "\u001b[1;31m\u001b[0m", 
                        "\u001b[1;31mNameError\u001b[0mTraceback (most recent call last)", 
                        "\u001b[1;32m<ipython-input-9-1dba3f83face>\u001b[0m in \u001b[0;36m<module>\u001b[1;34m()\u001b[0m\n\u001b[0;32m      2\u001b[0m             \u001b[0mcolorscale\u001b[0m \u001b[1;33m=\u001b[0m \u001b[1;34m'Viridis'\u001b[0m\u001b[1;33m,\u001b[0m\u001b[1;33m\u001b[0m\u001b[0m\n\u001b[0;32m      3\u001b[0m             \u001b[0mreversescale\u001b[0m \u001b[1;33m=\u001b[0m \u001b[1;32mTrue\u001b[0m\u001b[1;33m,\u001b[0m\u001b[1;33m\u001b[0m\u001b[0m\n\u001b[1;32m----> 4\u001b[1;33m             \u001b[0mlocations\u001b[0m \u001b[1;33m=\u001b[0m \u001b[0musdf\u001b[0m\u001b[1;33m[\u001b[0m\u001b[1;34m'State Abv'\u001b[0m\u001b[1;33m]\u001b[0m\u001b[1;33m,\u001b[0m\u001b[1;33m\u001b[0m\u001b[0m\n\u001b[0m\u001b[0;32m      5\u001b[0m             \u001b[0mz\u001b[0m \u001b[1;33m=\u001b[0m \u001b[0musdf\u001b[0m\u001b[1;33m[\u001b[0m\u001b[1;34m'Voting-Age Population (VAP)'\u001b[0m\u001b[1;33m]\u001b[0m\u001b[1;33m,\u001b[0m\u001b[1;33m\u001b[0m\u001b[0m\n\u001b[0;32m      6\u001b[0m             \u001b[0mlocationmode\u001b[0m \u001b[1;33m=\u001b[0m \u001b[1;34m'USA-states'\u001b[0m\u001b[1;33m,\u001b[0m\u001b[1;33m\u001b[0m\u001b[0m\n", 
                        "\u001b[1;31mNameError\u001b[0m: name 'usdf' is not defined"
                    ], 
                    "output_type": "error"
                }
            ], 
            "execution_count": 9
        }, 
        {
            "cell_type": "code", 
            "metadata": {
                "collapsed": true
            }, 
            "source": "layout = dict(title = '2012 General Election Voting Data',\n              geo = dict(scope='usa',\n                         showlakes = True,\n                         lakecolor = 'rgb(85,173,240)')\n             )", 
            "outputs": [], 
            "execution_count": 10
        }, 
        {
            "cell_type": "code", 
            "metadata": {
                "collapsed": false
            }, 
            "source": "choromap = go.Figure(data = [data],layout = layout)\nplot(choromap,validate=False)", 
            "outputs": [
                {
                    "metadata": {}, 
                    "output_type": "execute_result", 
                    "data": {
                        "text/plain": "'file:///Users/marci/Pierian-Data-Courses/Udemy-Python-Data-Science-Machine-Learning/Python-Data-Science-and-Machine-Learning-Bootcamp/Python-for-Data-Visualization/Geographical Plotting/temp-plot.html'"
                    }, 
                    "execution_count": 18
                }
            ], 
            "execution_count": 18
        }, 
        {
            "cell_type": "markdown", 
            "metadata": {}, 
            "source": "# Great Job!"
        }
    ], 
    "metadata": {
        "kernelspec": {
            "display_name": "Python 3.5 (Experimental) with Spark 1.6", 
            "name": "python3", 
            "language": "python"
        }, 
        "language_info": {
            "file_extension": ".py", 
            "nbconvert_exporter": "python", 
            "codemirror_mode": {
                "version": 3, 
                "name": "ipython"
            }, 
            "version": "3.5.2", 
            "mimetype": "text/x-python", 
            "pygments_lexer": "ipython3", 
            "name": "python"
        }
    }, 
    "nbformat_minor": 0, 
    "nbformat": 4
}